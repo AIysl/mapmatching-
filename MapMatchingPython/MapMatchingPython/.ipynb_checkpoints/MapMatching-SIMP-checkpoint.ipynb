{
 "cells": [
  {
   "cell_type": "markdown",
   "metadata": {},
   "source": [
    "# Step 1 Prepare Road Network"
   ]
  },
  {
   "cell_type": "code",
   "execution_count": 2,
   "metadata": {},
   "outputs": [],
   "source": [
    "import osmnx as ox\n",
    "road_file = 'porto.graphml'\n",
    "road_folder = 'D:/MapMatchingPython/data/osm/porto_road'\n",
    "\n",
    "road_graph = ox.load_graphml(filename=road_file, folder=road_folder)\n",
    "road_graph_utm = ox.project_graph(road_graph)"
   ]
  },
  {
   "cell_type": "markdown",
   "metadata": {},
   "source": [
    "### 1.1 Extract Edge Data from Road Network"
   ]
  },
  {
   "cell_type": "code",
   "execution_count": 3,
   "metadata": {},
   "outputs": [
    {
     "data": {
      "text/html": [
       "<div>\n",
       "<style scoped>\n",
       "    .dataframe tbody tr th:only-of-type {\n",
       "        vertical-align: middle;\n",
       "    }\n",
       "\n",
       "    .dataframe tbody tr th {\n",
       "        vertical-align: top;\n",
       "    }\n",
       "\n",
       "    .dataframe thead th {\n",
       "        text-align: right;\n",
       "    }\n",
       "</style>\n",
       "<table border=\"1\" class=\"dataframe\">\n",
       "  <thead>\n",
       "    <tr style=\"text-align: right;\">\n",
       "      <th></th>\n",
       "      <th>from</th>\n",
       "      <th>to</th>\n",
       "      <th>geometry</th>\n",
       "      <th>length</th>\n",
       "      <th>highway</th>\n",
       "      <th>bbox</th>\n",
       "    </tr>\n",
       "  </thead>\n",
       "  <tbody>\n",
       "    <tr>\n",
       "      <th>0</th>\n",
       "      <td>296058885</td>\n",
       "      <td>1628753289</td>\n",
       "      <td>LINESTRING (531068.006566746 4558739.619749674...</td>\n",
       "      <td>155.377405</td>\n",
       "      <td>secondary</td>\n",
       "      <td>(531068.006567, 4558592.64786, 531117.808982, ...</td>\n",
       "    </tr>\n",
       "    <tr>\n",
       "      <th>1</th>\n",
       "      <td>296058885</td>\n",
       "      <td>1561621045</td>\n",
       "      <td>LINESTRING (531068.006566746 4558739.619749674...</td>\n",
       "      <td>67.837805</td>\n",
       "      <td>primary</td>\n",
       "      <td>(531068.006567, 4558739.61975, 531135.491049, ...</td>\n",
       "    </tr>\n",
       "    <tr>\n",
       "      <th>2</th>\n",
       "      <td>2185756687</td>\n",
       "      <td>435240914</td>\n",
       "      <td>LINESTRING (533863.3661556013 4558657.15794647...</td>\n",
       "      <td>260.154858</td>\n",
       "      <td>[residential, service]</td>\n",
       "      <td>(533676.804891, 4558563.44126, 533863.366156, ...</td>\n",
       "    </tr>\n",
       "    <tr>\n",
       "      <th>3</th>\n",
       "      <td>2185756687</td>\n",
       "      <td>506111741</td>\n",
       "      <td>LINESTRING (533863.3661556013 4558657.15794647...</td>\n",
       "      <td>175.753043</td>\n",
       "      <td>service</td>\n",
       "      <td>(533863.366156, 4558641.90652, 534038.822479, ...</td>\n",
       "    </tr>\n",
       "    <tr>\n",
       "      <th>4</th>\n",
       "      <td>299597866</td>\n",
       "      <td>299598639</td>\n",
       "      <td>LINESTRING (534689.3168561951 4558013.88137999...</td>\n",
       "      <td>54.764152</td>\n",
       "      <td>residential</td>\n",
       "      <td>(534689.316856, 4558013.88138, 534723.50894, 4...</td>\n",
       "    </tr>\n",
       "  </tbody>\n",
       "</table>\n",
       "</div>"
      ],
      "text/plain": [
       "         from          to                                           geometry  \\\n",
       "0   296058885  1628753289  LINESTRING (531068.006566746 4558739.619749674...   \n",
       "1   296058885  1561621045  LINESTRING (531068.006566746 4558739.619749674...   \n",
       "2  2185756687   435240914  LINESTRING (533863.3661556013 4558657.15794647...   \n",
       "3  2185756687   506111741  LINESTRING (533863.3661556013 4558657.15794647...   \n",
       "4   299597866   299598639  LINESTRING (534689.3168561951 4558013.88137999...   \n",
       "\n",
       "       length                 highway  \\\n",
       "0  155.377405               secondary   \n",
       "1   67.837805                 primary   \n",
       "2  260.154858  [residential, service]   \n",
       "3  175.753043                 service   \n",
       "4   54.764152             residential   \n",
       "\n",
       "                                                bbox  \n",
       "0  (531068.006567, 4558592.64786, 531117.808982, ...  \n",
       "1  (531068.006567, 4558739.61975, 531135.491049, ...  \n",
       "2  (533676.804891, 4558563.44126, 533863.366156, ...  \n",
       "3  (533863.366156, 4558641.90652, 534038.822479, ...  \n",
       "4  (534689.316856, 4558013.88138, 534723.50894, 4...  "
      ]
     },
     "execution_count": 3,
     "metadata": {},
     "output_type": "execute_result"
    }
   ],
   "source": [
    "def road_graph_to_edge_gpd(road_graph):\n",
    "    '''\n",
    "    store road segments into a geppandas dataframe\n",
    "    :param road_graph: a road network graph in networkx\n",
    "    :return gpd_edges: a geopandas dataframe of road segments\n",
    "    '''\n",
    "    from shapely.geometry import Point, LineString\n",
    "    import geopandas as gpd\n",
    "    #froms = []\n",
    "    #tos = []\n",
    "    #geometries = []\n",
    "    gpd_edges = gpd.GeoDataFrame(columns=('from','to','geometry','length','highway'))\n",
    "    for e_from, e_to, data in road_graph.edges(data=True):\n",
    "        #froms.append(e_from)\n",
    "        #tos.append(e_to)\n",
    "        if 'geometry' in data:\n",
    "            #geometries.append(data['geometry'])\n",
    "            s = gpd.GeoSeries({'from':e_from, \n",
    "                               'to':e_to, \n",
    "                               'geometry':data['geometry'], \n",
    "                               'length':data['length'],\n",
    "                               'highway':data['highway']})\n",
    "            gpd_edges = gpd_edges.append(s, ignore_index=True)\n",
    "        else:\n",
    "            p1 = Point(road_graph.nodes[e_from]['x'], road_graph.nodes[e_from]['y'])\n",
    "            p2 = Point(road_graph.nodes[e_to]['x'], road_graph.nodes[e_to]['y'])\n",
    "            #geometries.append(LineString((p1, p2)))\n",
    "            data.update({'geometry':LineString((p1, p2))})\n",
    "            s = gpd.GeoSeries({'from':e_from, \n",
    "                               'to':e_to, \n",
    "                               'geometry':LineString((p1, p2)), \n",
    "                               'length':data['length'],\n",
    "                               'highway':data['highway']})\n",
    "            gpd_edges = gpd_edges.append(s, ignore_index=True)\n",
    "\n",
    "    #gpd_edges = gpd.GeoDataFrame(data={'from': froms, 'to': tos, 'geometry': geometries})\n",
    "    gpd_edges.crs = road_graph.graph['crs']\n",
    "    gpd_edges.name = 'edges'\n",
    "    # create bounding box for each edge geometry\n",
    "    gpd_edges['bbox'] = gpd_edges.apply(lambda row: row['geometry'].bounds, axis=1)\n",
    "    return gpd_edges\n",
    "\n",
    "gpd_edges_utm = road_graph_to_edge_gpd(road_graph_utm)\n",
    "gpd_edges_utm.head()"
   ]
  },
  {
   "cell_type": "markdown",
   "metadata": {},
   "source": [
    "### 1.2 Add max speed information"
   ]
  },
  {
   "cell_type": "code",
   "execution_count": 4,
   "metadata": {},
   "outputs": [
    {
     "data": {
      "text/html": [
       "<div>\n",
       "<style scoped>\n",
       "    .dataframe tbody tr th:only-of-type {\n",
       "        vertical-align: middle;\n",
       "    }\n",
       "\n",
       "    .dataframe tbody tr th {\n",
       "        vertical-align: top;\n",
       "    }\n",
       "\n",
       "    .dataframe thead th {\n",
       "        text-align: right;\n",
       "    }\n",
       "</style>\n",
       "<table border=\"1\" class=\"dataframe\">\n",
       "  <thead>\n",
       "    <tr style=\"text-align: right;\">\n",
       "      <th></th>\n",
       "      <th>from</th>\n",
       "      <th>to</th>\n",
       "      <th>geometry</th>\n",
       "      <th>length</th>\n",
       "      <th>highway</th>\n",
       "      <th>bbox</th>\n",
       "      <th>max speed</th>\n",
       "    </tr>\n",
       "  </thead>\n",
       "  <tbody>\n",
       "    <tr>\n",
       "      <th>0</th>\n",
       "      <td>296058885</td>\n",
       "      <td>1628753289</td>\n",
       "      <td>LINESTRING (531068.006566746 4558739.619749674...</td>\n",
       "      <td>155.377405</td>\n",
       "      <td>secondary</td>\n",
       "      <td>(531068.006567, 4558592.64786, 531117.808982, ...</td>\n",
       "      <td>50</td>\n",
       "    </tr>\n",
       "    <tr>\n",
       "      <th>1</th>\n",
       "      <td>296058885</td>\n",
       "      <td>1561621045</td>\n",
       "      <td>LINESTRING (531068.006566746 4558739.619749674...</td>\n",
       "      <td>67.837805</td>\n",
       "      <td>primary</td>\n",
       "      <td>(531068.006567, 4558739.61975, 531135.491049, ...</td>\n",
       "      <td>60</td>\n",
       "    </tr>\n",
       "    <tr>\n",
       "      <th>2</th>\n",
       "      <td>2185756687</td>\n",
       "      <td>435240914</td>\n",
       "      <td>LINESTRING (533863.3661556013 4558657.15794647...</td>\n",
       "      <td>260.154858</td>\n",
       "      <td>[residential, service]</td>\n",
       "      <td>(533676.804891, 4558563.44126, 533863.366156, ...</td>\n",
       "      <td>30</td>\n",
       "    </tr>\n",
       "    <tr>\n",
       "      <th>3</th>\n",
       "      <td>2185756687</td>\n",
       "      <td>506111741</td>\n",
       "      <td>LINESTRING (533863.3661556013 4558657.15794647...</td>\n",
       "      <td>175.753043</td>\n",
       "      <td>service</td>\n",
       "      <td>(533863.366156, 4558641.90652, 534038.822479, ...</td>\n",
       "      <td>20</td>\n",
       "    </tr>\n",
       "    <tr>\n",
       "      <th>4</th>\n",
       "      <td>299597866</td>\n",
       "      <td>299598639</td>\n",
       "      <td>LINESTRING (534689.3168561951 4558013.88137999...</td>\n",
       "      <td>54.764152</td>\n",
       "      <td>residential</td>\n",
       "      <td>(534689.316856, 4558013.88138, 534723.50894, 4...</td>\n",
       "      <td>30</td>\n",
       "    </tr>\n",
       "  </tbody>\n",
       "</table>\n",
       "</div>"
      ],
      "text/plain": [
       "         from          to                                           geometry  \\\n",
       "0   296058885  1628753289  LINESTRING (531068.006566746 4558739.619749674...   \n",
       "1   296058885  1561621045  LINESTRING (531068.006566746 4558739.619749674...   \n",
       "2  2185756687   435240914  LINESTRING (533863.3661556013 4558657.15794647...   \n",
       "3  2185756687   506111741  LINESTRING (533863.3661556013 4558657.15794647...   \n",
       "4   299597866   299598639  LINESTRING (534689.3168561951 4558013.88137999...   \n",
       "\n",
       "       length                 highway  \\\n",
       "0  155.377405               secondary   \n",
       "1   67.837805                 primary   \n",
       "2  260.154858  [residential, service]   \n",
       "3  175.753043                 service   \n",
       "4   54.764152             residential   \n",
       "\n",
       "                                                bbox  max speed  \n",
       "0  (531068.006567, 4558592.64786, 531117.808982, ...         50  \n",
       "1  (531068.006567, 4558739.61975, 531135.491049, ...         60  \n",
       "2  (533676.804891, 4558563.44126, 533863.366156, ...         30  \n",
       "3  (533863.366156, 4558641.90652, 534038.822479, ...         20  \n",
       "4  (534689.316856, 4558013.88138, 534723.50894, 4...         30  "
      ]
     },
     "execution_count": 4,
     "metadata": {},
     "output_type": "execute_result"
    }
   ],
   "source": [
    "def get_max_speed(highway):\n",
    "    '''\n",
    "    return the corresponding max speed in kmph \n",
    "    '''\n",
    "    if highway == 'mortorway':\n",
    "        return 100\n",
    "    elif highway == 'mortorway_link':\n",
    "        return 60\n",
    "    elif highway == 'trunk':\n",
    "        return 80\n",
    "    elif highway == 'trunk_link':\n",
    "        return 40\n",
    "    elif highway == 'primary':\n",
    "        return 60\n",
    "    elif highway == 'primary_link':\n",
    "        return 40\n",
    "    elif highway == 'secondary':\n",
    "        return 50\n",
    "    elif highway == 'secondary_link':\n",
    "        return 20\n",
    "    elif highway == 'residential':\n",
    "        return 30\n",
    "    elif highway == 'teritiary':\n",
    "        return 50\n",
    "    elif highway == 'teritiary_link':\n",
    "        return 20\n",
    "    elif highway == 'living_street':\n",
    "        return 20\n",
    "    elif highway == 'road':\n",
    "        return 20\n",
    "    elif highway == 'service':\n",
    "        return 20\n",
    "    else:\n",
    "        return 50\n",
    "        \n",
    "    \n",
    "def add_max_speeds(gpd_edges_utm):\n",
    "    max_speeds = []\n",
    "    for idx, row in gpd_edges_utm.iterrows():\n",
    "        if isinstance(row['highway'], list):\n",
    "            max_speed1 = get_max_speed(row['highway'][0])\n",
    "            max_speed2 = get_max_speed(row['highway'][1])\n",
    "            if row['length'] > 100:\n",
    "                max_speed = max(max_speed1, max_speed2)\n",
    "                max_speeds.append(max_speed)\n",
    "            else:\n",
    "                max_speed = min(max_speed1, max_speed2)\n",
    "                max_speeds.append(max_speed)\n",
    "        else:\n",
    "            max_speeds.append(get_max_speed(row['highway']))\n",
    "    return max_speeds\n",
    "\n",
    "\n",
    "max_speeds = add_max_speeds(gpd_edges_utm)\n",
    "gpd_edges_utm['max speed'] = max_speeds\n",
    "gpd_edges_utm.head()"
   ]
  },
  {
   "cell_type": "markdown",
   "metadata": {},
   "source": [
    "### 1.3 Calculate edge bearing"
   ]
  },
  {
   "cell_type": "code",
   "execution_count": 5,
   "metadata": {},
   "outputs": [
    {
     "data": {
      "text/html": [
       "<div>\n",
       "<style scoped>\n",
       "    .dataframe tbody tr th:only-of-type {\n",
       "        vertical-align: middle;\n",
       "    }\n",
       "\n",
       "    .dataframe tbody tr th {\n",
       "        vertical-align: top;\n",
       "    }\n",
       "\n",
       "    .dataframe thead th {\n",
       "        text-align: right;\n",
       "    }\n",
       "</style>\n",
       "<table border=\"1\" class=\"dataframe\">\n",
       "  <thead>\n",
       "    <tr style=\"text-align: right;\">\n",
       "      <th></th>\n",
       "      <th>from</th>\n",
       "      <th>to</th>\n",
       "      <th>geometry</th>\n",
       "      <th>length</th>\n",
       "      <th>highway</th>\n",
       "      <th>bbox</th>\n",
       "      <th>max speed</th>\n",
       "      <th>bearing</th>\n",
       "    </tr>\n",
       "  </thead>\n",
       "  <tbody>\n",
       "    <tr>\n",
       "      <th>0</th>\n",
       "      <td>296058885</td>\n",
       "      <td>1628753289</td>\n",
       "      <td>LINESTRING (531068.006566746 4558739.619749674...</td>\n",
       "      <td>155.377405</td>\n",
       "      <td>secondary</td>\n",
       "      <td>(531068.006567, 4558592.64786, 531117.808982, ...</td>\n",
       "      <td>50</td>\n",
       "      <td>161.590114</td>\n",
       "    </tr>\n",
       "    <tr>\n",
       "      <th>1</th>\n",
       "      <td>296058885</td>\n",
       "      <td>1561621045</td>\n",
       "      <td>LINESTRING (531068.006566746 4558739.619749674...</td>\n",
       "      <td>67.837805</td>\n",
       "      <td>primary</td>\n",
       "      <td>(531068.006567, 4558739.61975, 531135.491049, ...</td>\n",
       "      <td>60</td>\n",
       "      <td>83.334720</td>\n",
       "    </tr>\n",
       "    <tr>\n",
       "      <th>2</th>\n",
       "      <td>2185756687</td>\n",
       "      <td>435240914</td>\n",
       "      <td>LINESTRING (533863.3661556013 4558657.15794647...</td>\n",
       "      <td>260.154858</td>\n",
       "      <td>[residential, service]</td>\n",
       "      <td>(533676.804891, 4558563.44126, 533863.366156, ...</td>\n",
       "      <td>30</td>\n",
       "      <td>243.506668</td>\n",
       "    </tr>\n",
       "    <tr>\n",
       "      <th>3</th>\n",
       "      <td>2185756687</td>\n",
       "      <td>506111741</td>\n",
       "      <td>LINESTRING (533863.3661556013 4558657.15794647...</td>\n",
       "      <td>175.753043</td>\n",
       "      <td>service</td>\n",
       "      <td>(533863.366156, 4558641.90652, 534038.822479, ...</td>\n",
       "      <td>20</td>\n",
       "      <td>95.248826</td>\n",
       "    </tr>\n",
       "    <tr>\n",
       "      <th>4</th>\n",
       "      <td>299597866</td>\n",
       "      <td>299598639</td>\n",
       "      <td>LINESTRING (534689.3168561951 4558013.88137999...</td>\n",
       "      <td>54.764152</td>\n",
       "      <td>residential</td>\n",
       "      <td>(534689.316856, 4558013.88138, 534723.50894, 4...</td>\n",
       "      <td>30</td>\n",
       "      <td>39.244608</td>\n",
       "    </tr>\n",
       "  </tbody>\n",
       "</table>\n",
       "</div>"
      ],
      "text/plain": [
       "         from          to                                           geometry  \\\n",
       "0   296058885  1628753289  LINESTRING (531068.006566746 4558739.619749674...   \n",
       "1   296058885  1561621045  LINESTRING (531068.006566746 4558739.619749674...   \n",
       "2  2185756687   435240914  LINESTRING (533863.3661556013 4558657.15794647...   \n",
       "3  2185756687   506111741  LINESTRING (533863.3661556013 4558657.15794647...   \n",
       "4   299597866   299598639  LINESTRING (534689.3168561951 4558013.88137999...   \n",
       "\n",
       "       length                 highway  \\\n",
       "0  155.377405               secondary   \n",
       "1   67.837805                 primary   \n",
       "2  260.154858  [residential, service]   \n",
       "3  175.753043                 service   \n",
       "4   54.764152             residential   \n",
       "\n",
       "                                                bbox  max speed     bearing  \n",
       "0  (531068.006567, 4558592.64786, 531117.808982, ...         50  161.590114  \n",
       "1  (531068.006567, 4558739.61975, 531135.491049, ...         60   83.334720  \n",
       "2  (533676.804891, 4558563.44126, 533863.366156, ...         30  243.506668  \n",
       "3  (533863.366156, 4558641.90652, 534038.822479, ...         20   95.248826  \n",
       "4  (534689.316856, 4558013.88138, 534723.50894, 4...         30   39.244608  "
      ]
     },
     "execution_count": 5,
     "metadata": {},
     "output_type": "execute_result"
    }
   ],
   "source": [
    "def calculate_initial_compass_bearing(pointA, pointB):\n",
    "    \"\"\"\n",
    "    URL：https://gist.github.com/jeromer/2005586\n",
    "    Calculates the bearing between two points.\n",
    "    The formulae used is the following:\n",
    "        θ = atan2(sin(Δlong).cos(lat2),\n",
    "                  cos(lat1).sin(lat2) − sin(lat1).cos(lat2).cos(Δlong))\n",
    "    :Parameters:\n",
    "      - `pointA: The tuple representing the latitude/longitude for the\n",
    "        first point. Latitude and longitude must be in decimal degrees\n",
    "      - `pointB: The tuple representing the latitude/longitude for the\n",
    "        second point. Latitude and longitude must be in decimal degrees\n",
    "    :Returns:\n",
    "      The bearing in degrees\n",
    "    :Returns Type:\n",
    "      float\n",
    "    \"\"\"\n",
    "    import math\n",
    "    if (type(pointA) != tuple) or (type(pointB) != tuple):\n",
    "        raise TypeError(\"Only tuples are supported as arguments\")\n",
    "\n",
    "    lat1 = math.radians(pointA[0])\n",
    "    lat2 = math.radians(pointB[0])\n",
    "\n",
    "    diffLong = math.radians(pointB[1] - pointA[1])\n",
    "\n",
    "    x = math.sin(diffLong) * math.cos(lat2)\n",
    "    y = math.cos(lat1) * math.sin(lat2) - (math.sin(lat1)\n",
    "            * math.cos(lat2) * math.cos(diffLong))\n",
    "\n",
    "    initial_bearing = math.atan2(x, y)\n",
    "\n",
    "    # Now we have the initial bearing but math.atan2 return values\n",
    "    # from -180° to + 180° which is not what we want for a compass bearing\n",
    "    # The solution is to normalize the initial bearing as shown below\n",
    "    initial_bearing = math.degrees(initial_bearing)\n",
    "    compass_bearing = (initial_bearing + 360) % 360\n",
    "\n",
    "    return compass_bearing\n",
    "\n",
    "def calculate_edge_bearing(road_graph, from_id, to_id):\n",
    "    if 'geometry' in road_graph[from_id][to_id][0]:\n",
    "        linestring = road_graph[from_id][to_id][0]['geometry']\n",
    "        p1 = linestring.coords[0]\n",
    "        p2 = linestring.coords[-1]\n",
    "        pA = (p1[1], p1[0])\n",
    "        pB = (p2[1], p2[0])\n",
    "        return calculate_initial_compass_bearing(pA, pB)\n",
    "    else:\n",
    "        pA = (road_graph.nodes[from_id]['y'], road_graph.nodes[from_id]['x'])\n",
    "        pB = (road_graph.nodes[to_id]['y'], road_graph.nodes[to_id]['x'])\n",
    "        return calculate_initial_compass_bearing(pA, pB)\n",
    "\n",
    "\n",
    "def add_edge_bearing(road_graph, gpd_edges_utm):\n",
    "    gpd_edges_utm['bearing'] = gpd_edges_utm.apply(lambda row: calculate_edge_bearing(road_graph, row['from'], row['to']), axis=1)\n",
    "\n",
    "    \n",
    "add_edge_bearing(road_graph, gpd_edges_utm)    \n",
    "gpd_edges_utm.head()"
   ]
  },
  {
   "cell_type": "markdown",
   "metadata": {},
   "source": [
    "# Step 2: Load Trajectory"
   ]
  },
  {
   "cell_type": "code",
   "execution_count": 6,
   "metadata": {},
   "outputs": [],
   "source": [
    "def read_trip(filename):\n",
    "    '''\n",
    "    read trajectory from csv file\n",
    "    '''\n",
    "    import pandas as pd\n",
    "    import geopandas as gpd\n",
    "    from shapely.geometry import Point\n",
    "    col_names = ['obj_id', 'lat', 'lon', 'timestamp', 'unknown1', 'unknow2']\n",
    "    trip = pd.read_csv(filename, header=None, names=col_names)\n",
    "    trip.drop(['unknown1', 'unknow2'], axis=1, inplace=True)\n",
    "    trip['geometry'] = trip.apply(lambda z: Point(z.lon, z.lat), axis=1)\n",
    "    trip = gpd.GeoDataFrame(trip)\n",
    "    return trip\n",
    "\n",
    "\n",
    "### coordinate transformation\n",
    "def transform_coordinates(point, crs, to_crs):\n",
    "    import osmnx as oxge\n",
    "    return ox.project_geometry(point,crs, to_crs)[0]"
   ]
  },
  {
   "cell_type": "code",
   "execution_count": 7,
   "metadata": {},
   "outputs": [
    {
     "data": {
      "text/html": [
       "<div>\n",
       "<style scoped>\n",
       "    .dataframe tbody tr th:only-of-type {\n",
       "        vertical-align: middle;\n",
       "    }\n",
       "\n",
       "    .dataframe tbody tr th {\n",
       "        vertical-align: top;\n",
       "    }\n",
       "\n",
       "    .dataframe thead th {\n",
       "        text-align: right;\n",
       "    }\n",
       "</style>\n",
       "<table border=\"1\" class=\"dataframe\">\n",
       "  <thead>\n",
       "    <tr style=\"text-align: right;\">\n",
       "      <th></th>\n",
       "      <th>obj_id</th>\n",
       "      <th>lat</th>\n",
       "      <th>lon</th>\n",
       "      <th>timestamp</th>\n",
       "      <th>geometry</th>\n",
       "      <th>geometry_utm</th>\n",
       "    </tr>\n",
       "  </thead>\n",
       "  <tbody>\n",
       "    <tr>\n",
       "      <th>0</th>\n",
       "      <td>20000589</td>\n",
       "      <td>41.141412</td>\n",
       "      <td>-8.618643</td>\n",
       "      <td>1372636858</td>\n",
       "      <td>POINT (-8.618642999999999 41.141412)</td>\n",
       "      <td>POINT (532004.0931626002 4554525.40328601)</td>\n",
       "    </tr>\n",
       "    <tr>\n",
       "      <th>1</th>\n",
       "      <td>20000589</td>\n",
       "      <td>41.141376</td>\n",
       "      <td>-8.618499</td>\n",
       "      <td>1372636873</td>\n",
       "      <td>POINT (-8.618499 41.141376)</td>\n",
       "      <td>POINT (532016.1954063133 4554521.459764727)</td>\n",
       "    </tr>\n",
       "    <tr>\n",
       "      <th>2</th>\n",
       "      <td>20000589</td>\n",
       "      <td>41.142510</td>\n",
       "      <td>-8.620326</td>\n",
       "      <td>1372636888</td>\n",
       "      <td>POINT (-8.620325999999999 41.14250999999999)</td>\n",
       "      <td>POINT (531862.321380579 4554646.677934005)</td>\n",
       "    </tr>\n",
       "    <tr>\n",
       "      <th>3</th>\n",
       "      <td>20000589</td>\n",
       "      <td>41.143815</td>\n",
       "      <td>-8.622153</td>\n",
       "      <td>1372636903</td>\n",
       "      <td>POINT (-8.622152999999999 41.143815)</td>\n",
       "      <td>POINT (531708.3702606896 4554790.882491105)</td>\n",
       "    </tr>\n",
       "    <tr>\n",
       "      <th>4</th>\n",
       "      <td>20000589</td>\n",
       "      <td>41.144373</td>\n",
       "      <td>-8.623953</td>\n",
       "      <td>1372636918</td>\n",
       "      <td>POINT (-8.623953 41.144373)</td>\n",
       "      <td>POINT (531557.0490813914 4554852.173654097)</td>\n",
       "    </tr>\n",
       "  </tbody>\n",
       "</table>\n",
       "</div>"
      ],
      "text/plain": [
       "     obj_id        lat       lon   timestamp  \\\n",
       "0  20000589  41.141412 -8.618643  1372636858   \n",
       "1  20000589  41.141376 -8.618499  1372636873   \n",
       "2  20000589  41.142510 -8.620326  1372636888   \n",
       "3  20000589  41.143815 -8.622153  1372636903   \n",
       "4  20000589  41.144373 -8.623953  1372636918   \n",
       "\n",
       "                                       geometry  \\\n",
       "0          POINT (-8.618642999999999 41.141412)   \n",
       "1                   POINT (-8.618499 41.141376)   \n",
       "2  POINT (-8.620325999999999 41.14250999999999)   \n",
       "3          POINT (-8.622152999999999 41.143815)   \n",
       "4                   POINT (-8.623953 41.144373)   \n",
       "\n",
       "                                  geometry_utm  \n",
       "0   POINT (532004.0931626002 4554525.40328601)  \n",
       "1  POINT (532016.1954063133 4554521.459764727)  \n",
       "2   POINT (531862.321380579 4554646.677934005)  \n",
       "3  POINT (531708.3702606896 4554790.882491105)  \n",
       "4  POINT (531557.0490813914 4554852.173654097)  "
      ]
     },
     "execution_count": 7,
     "metadata": {},
     "output_type": "execute_result"
    }
   ],
   "source": [
    "trip_folder = 'D:/MapMatchingPython/data/trips'\n",
    "trip_file = trip_folder + '/trip_0.txt'\n",
    "trip = read_trip(trip_file)\n",
    "# coordinate transformation\n",
    "crs = road_graph.graph['crs']\n",
    "to_crs = road_graph_utm.graph['crs']\n",
    "trip['geometry_utm'] = trip.apply(lambda row: transform_coordinates(row['geometry'], crs, to_crs), axis=1)\n",
    "trip.head()"
   ]
  },
  {
   "cell_type": "code",
   "execution_count": 8,
   "metadata": {},
   "outputs": [
    {
     "data": {
      "image/svg+xml": [
       "<svg xmlns=\"http://www.w3.org/2000/svg\" xmlns:xlink=\"http://www.w3.org/1999/xlink\" width=\"300\" height=\"300\" viewBox=\"530759.795819 4554463.2899 1314.56945003 1570.58628545\" preserveAspectRatio=\"xMinYMin meet\"><g transform=\"matrix(1,0,0,-1,0,9110497.16609)\"><polyline fill=\"none\" stroke=\"#66cc99\" stroke-width=\"10.4705752363\" points=\"532004.093163,4554525.40329 532016.195406,4554521.45976 531862.321381,4554646.67793 531708.370261,4554790.88249 531557.049081,4554852.17365 531328.01196,4554896.1491 531269.895628,4554886.90799 531030.236948,4554942.83687 530817.965681,4555131.77351 530901.939035,4555277.00227 531051.963452,4555517.43005 531121.049652,4555609.6442 531119.526518,4555612.63511 531147.767681,4555719.66267 531155.993616,4555738.68127 531149.884093,4555754.64135 530975.363931,4555771.88368 530850.601116,4555809.32278 530948.837462,4555972.59696 530975.259092,4555974.70721 530975.254855,4555975.70633 530975.263328,4555973.7081 530974.512419,4555972.70578\" opacity=\"0.8\" /></g></svg>"
      ],
      "text/plain": [
       "<shapely.geometry.linestring.LineString at 0x271f67b8>"
      ]
     },
     "execution_count": 8,
     "metadata": {},
     "output_type": "execute_result"
    }
   ],
   "source": [
    "from shapely.geometry import LineString\n",
    "line = LineString(list(trip['geometry_utm']))\n",
    "line"
   ]
  },
  {
   "cell_type": "code",
   "execution_count": 17,
   "metadata": {},
   "outputs": [],
   "source": [
    "simplified_line = line.simplify(0.2, preserve_topology=False)"
   ]
  },
  {
   "cell_type": "code",
   "execution_count": 18,
   "metadata": {},
   "outputs": [
    {
     "data": {
      "text/plain": [
       "23"
      ]
     },
     "execution_count": 18,
     "metadata": {},
     "output_type": "execute_result"
    }
   ],
   "source": [
    "len(simplified_line.coords)"
   ]
  },
  {
   "cell_type": "code",
   "execution_count": 19,
   "metadata": {},
   "outputs": [
    {
     "data": {
      "text/plain": [
       "(532004.0931626002, 4554525.40328601)"
      ]
     },
     "execution_count": 19,
     "metadata": {},
     "output_type": "execute_result"
    }
   ],
   "source": [
    "simplified_line.coords[0]"
   ]
  },
  {
   "cell_type": "code",
   "execution_count": 21,
   "metadata": {},
   "outputs": [
    {
     "data": {
      "text/plain": [
       "False"
      ]
     },
     "execution_count": 21,
     "metadata": {},
     "output_type": "execute_result"
    }
   ],
   "source": [
    "from shapely.geometry import Point\n",
    "trip.iloc[0]['geometry_utm'] == Point(simplified_line.coords[1])"
   ]
  },
  {
   "cell_type": "code",
   "execution_count": 22,
   "metadata": {},
   "outputs": [
    {
     "data": {
      "text/plain": [
       "Index([u'obj_id', u'lat', u'lon', u'timestamp', u'geometry', u'geometry_utm'], dtype='object')"
      ]
     },
     "execution_count": 22,
     "metadata": {},
     "output_type": "execute_result"
    }
   ],
   "source": [
    "trip.columns"
   ]
  },
  {
   "cell_type": "code",
   "execution_count": 23,
   "metadata": {},
   "outputs": [
    {
     "data": {
      "text/plain": [
       "pandas.core.indexes.base.Index"
      ]
     },
     "execution_count": 23,
     "metadata": {},
     "output_type": "execute_result"
    }
   ],
   "source": [
    "type(trip.columns)"
   ]
  },
  {
   "cell_type": "code",
   "execution_count": 34,
   "metadata": {},
   "outputs": [],
   "source": [
    "def simplify_trip(trip, tolerance):\n",
    "    from shapely.geometry import Point, LineString\n",
    "    import geopandas as gpd\n",
    "    line = LineString(list(trip['geometry_utm']))\n",
    "    simplified_line = line.simplify(tolerance, preserve_topology=False)\n",
    "    simplified_trip = gpd.GeoDataFrame(columns = trip.columns)\n",
    "    k = 0\n",
    "    for t in simplified_line.coords:\n",
    "        for i in range(k, len(trip)):\n",
    "            if trip.iloc[i]['geometry_utm'] == Point(t):\n",
    "                simplified_trip = simplified_trip.append(trip.iloc[i], ignore_index=True)\n",
    "                k = i+1\n",
    "                break\n",
    "    return simplified_trip"
   ]
  },
  {
   "cell_type": "code",
   "execution_count": 35,
   "metadata": {},
   "outputs": [],
   "source": [
    "simplified_trip = simplify_trip(trip, 0.2)"
   ]
  },
  {
   "cell_type": "code",
   "execution_count": 36,
   "metadata": {},
   "outputs": [
    {
     "data": {
      "text/html": [
       "<div>\n",
       "<style scoped>\n",
       "    .dataframe tbody tr th:only-of-type {\n",
       "        vertical-align: middle;\n",
       "    }\n",
       "\n",
       "    .dataframe tbody tr th {\n",
       "        vertical-align: top;\n",
       "    }\n",
       "\n",
       "    .dataframe thead th {\n",
       "        text-align: right;\n",
       "    }\n",
       "</style>\n",
       "<table border=\"1\" class=\"dataframe\">\n",
       "  <thead>\n",
       "    <tr style=\"text-align: right;\">\n",
       "      <th></th>\n",
       "      <th>obj_id</th>\n",
       "      <th>lat</th>\n",
       "      <th>lon</th>\n",
       "      <th>timestamp</th>\n",
       "      <th>geometry</th>\n",
       "      <th>geometry_utm</th>\n",
       "    </tr>\n",
       "  </thead>\n",
       "  <tbody>\n",
       "    <tr>\n",
       "      <th>0</th>\n",
       "      <td>20000589</td>\n",
       "      <td>41.141412</td>\n",
       "      <td>-8.618643</td>\n",
       "      <td>1372636858</td>\n",
       "      <td>POINT (-8.618642999999999 41.141412)</td>\n",
       "      <td>POINT (532004.0931626002 4554525.40328601)</td>\n",
       "    </tr>\n",
       "    <tr>\n",
       "      <th>1</th>\n",
       "      <td>20000589</td>\n",
       "      <td>41.141376</td>\n",
       "      <td>-8.618499</td>\n",
       "      <td>1372636873</td>\n",
       "      <td>POINT (-8.618499 41.141376)</td>\n",
       "      <td>POINT (532016.1954063133 4554521.459764727)</td>\n",
       "    </tr>\n",
       "    <tr>\n",
       "      <th>2</th>\n",
       "      <td>20000589</td>\n",
       "      <td>41.142510</td>\n",
       "      <td>-8.620326</td>\n",
       "      <td>1372636888</td>\n",
       "      <td>POINT (-8.620325999999999 41.14250999999999)</td>\n",
       "      <td>POINT (531862.321380579 4554646.677934005)</td>\n",
       "    </tr>\n",
       "    <tr>\n",
       "      <th>3</th>\n",
       "      <td>20000589</td>\n",
       "      <td>41.143815</td>\n",
       "      <td>-8.622153</td>\n",
       "      <td>1372636903</td>\n",
       "      <td>POINT (-8.622152999999999 41.143815)</td>\n",
       "      <td>POINT (531708.3702606896 4554790.882491105)</td>\n",
       "    </tr>\n",
       "    <tr>\n",
       "      <th>4</th>\n",
       "      <td>20000589</td>\n",
       "      <td>41.144373</td>\n",
       "      <td>-8.623953</td>\n",
       "      <td>1372636918</td>\n",
       "      <td>POINT (-8.623953 41.144373)</td>\n",
       "      <td>POINT (531557.0490813914 4554852.173654097)</td>\n",
       "    </tr>\n",
       "  </tbody>\n",
       "</table>\n",
       "</div>"
      ],
      "text/plain": [
       "     obj_id        lat       lon   timestamp  \\\n",
       "0  20000589  41.141412 -8.618643  1372636858   \n",
       "1  20000589  41.141376 -8.618499  1372636873   \n",
       "2  20000589  41.142510 -8.620326  1372636888   \n",
       "3  20000589  41.143815 -8.622153  1372636903   \n",
       "4  20000589  41.144373 -8.623953  1372636918   \n",
       "\n",
       "                                       geometry  \\\n",
       "0          POINT (-8.618642999999999 41.141412)   \n",
       "1                   POINT (-8.618499 41.141376)   \n",
       "2  POINT (-8.620325999999999 41.14250999999999)   \n",
       "3          POINT (-8.622152999999999 41.143815)   \n",
       "4                   POINT (-8.623953 41.144373)   \n",
       "\n",
       "                                  geometry_utm  \n",
       "0   POINT (532004.0931626002 4554525.40328601)  \n",
       "1  POINT (532016.1954063133 4554521.459764727)  \n",
       "2   POINT (531862.321380579 4554646.677934005)  \n",
       "3  POINT (531708.3702606896 4554790.882491105)  \n",
       "4  POINT (531557.0490813914 4554852.173654097)  "
      ]
     },
     "execution_count": 36,
     "metadata": {},
     "output_type": "execute_result"
    }
   ],
   "source": [
    "simplified_trip.head()"
   ]
  },
  {
   "cell_type": "code",
   "execution_count": 37,
   "metadata": {},
   "outputs": [
    {
     "data": {
      "text/plain": [
       "23"
      ]
     },
     "execution_count": 37,
     "metadata": {},
     "output_type": "execute_result"
    }
   ],
   "source": [
    "len(simplified_trip)"
   ]
  },
  {
   "cell_type": "code",
   "execution_count": null,
   "metadata": {},
   "outputs": [],
   "source": []
  }
 ],
 "metadata": {
  "kernelspec": {
   "display_name": "Python 2",
   "language": "python",
   "name": "python2"
  },
  "language_info": {
   "codemirror_mode": {
    "name": "ipython",
    "version": 2
   },
   "file_extension": ".py",
   "mimetype": "text/x-python",
   "name": "python",
   "nbconvert_exporter": "python",
   "pygments_lexer": "ipython2",
   "version": "2.7.14"
  }
 },
 "nbformat": 4,
 "nbformat_minor": 2
}
