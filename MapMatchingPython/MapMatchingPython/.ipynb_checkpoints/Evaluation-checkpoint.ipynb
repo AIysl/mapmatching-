{
 "cells": [
  {
   "cell_type": "markdown",
   "metadata": {},
   "source": [
    "# Evaluation\n",
    "\n",
    "Reference:\n",
    "\n",
    "[1] Y. Yin, R. R. Shah, G. Wang, and R. Zimmermann, “Feature-based Map Matching for Low-Sampling-Rate GPS Trajectories,” ACM Trans. Spatial Algorithms Syst., vol. 4, no. 2, pp. 4:1–4:24, Aug. 2018.\n",
    "\n",
    "\n",
    "- Roate Mismatch Fraction\n",
    "\\begin{equation}\n",
    "RMF = (d_+ + d_-) / d_0,\n",
    "\\end{equation}\n",
    "  - $d_+$: the total length of the false positive road segments;\n",
    "  - $d_-$: the total length of the false negtive road segments\n",
    "\n",
    "- Precision\n",
    "\\begin{equation}\n",
    "Precision = \\frac{Total distance of matching sequence}{Total distance of predicted trace}\n",
    "\\end{equation}\n",
    "\n",
    "- Recall\n",
    "\\begin{equation}\n",
    "Recall = \\frac{Total distance of matching sequence}{Total distance of ground truth trace}\n",
    "\\end{equation}\n",
    "\n",
    "- $F_1$ Score\n",
    "\\begin{equation}\n",
    "F_1 = 2 \\times \\frac{Precision \\times Recall}{Precision + Recall}\n",
    "\\end{equation}"
   ]
  },
  {
   "cell_type": "code",
   "execution_count": null,
   "metadata": {},
   "outputs": [],
   "source": []
  }
 ],
 "metadata": {
  "kernelspec": {
   "display_name": "Python 2",
   "language": "python",
   "name": "python2"
  },
  "language_info": {
   "codemirror_mode": {
    "name": "ipython",
    "version": 2
   },
   "file_extension": ".py",
   "mimetype": "text/x-python",
   "name": "python",
   "nbconvert_exporter": "python",
   "pygments_lexer": "ipython2",
   "version": "2.7.14"
  }
 },
 "nbformat": 4,
 "nbformat_minor": 2
}
